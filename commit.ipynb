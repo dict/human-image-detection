{
 "cells": [
  {
   "cell_type": "code",
   "execution_count": 1,
   "id": "bottom-concert",
   "metadata": {},
   "outputs": [],
   "source": [
    "!git add ."
   ]
  },
  {
   "cell_type": "code",
   "execution_count": 2,
   "id": "black-partnership",
   "metadata": {},
   "outputs": [
    {
     "name": "stdout",
     "output_type": "stream",
     "text": [
      "[main 1f4601a] temp\r\n",
      " 3 files changed, 41 insertions(+)\r\n",
      " create mode 100644 .ipynb_checkpoints/commit-checkpoint.ipynb\r\n",
      " create mode 100644 0.txt\r\n",
      " create mode 100644 commit.ipynb\r\n"
     ]
    }
   ],
   "source": [
    "!git commit -m \"temp\""
   ]
  },
  {
   "cell_type": "code",
   "execution_count": 3,
   "id": "consolidated-transport",
   "metadata": {},
   "outputs": [
    {
     "name": "stdout",
     "output_type": "stream",
     "text": [
      "Counting objects: 6, done.\n",
      "Delta compression using up to 64 threads.\n",
      "Compressing objects: 100% (5/5), done.\n",
      "Writing objects: 100% (6/6), 759 bytes | 759.00 KiB/s, done.\n",
      "Total 6 (delta 0), reused 0 (delta 0)\n",
      "To github.com:dict/human-image-detection.git\n",
      "   4f0f201..1f4601a  main -> main\n"
     ]
    }
   ],
   "source": [
    "!touch 0.txt"
   ]
  },
  {
   "cell_type": "code",
   "execution_count": 9,
   "id": "married-victorian",
   "metadata": {},
   "outputs": [],
   "source": [
    "import time"
   ]
  },
  {
   "cell_type": "code",
   "execution_count": 15,
   "id": "official-carrier",
   "metadata": {},
   "outputs": [
    {
     "name": "stdout",
     "output_type": "stream",
     "text": [
      "mv 0.txt 1.txt\n",
      "mv 1.txt 2.txt\n",
      "mv 2.txt 3.txt\n",
      "mv 3.txt 4.txt\n",
      "mv 4.txt 5.txt\n"
     ]
    }
   ],
   "source": [
    "for idx in range(500):\n",
    "    time.sleep(1)\n",
    "    a = str(idx)+'.txt'\n",
    "    b = str(idx+1)+'.txt'\n",
    "    !git add .\n",
    "    !git commit -m \"temp\"\n",
    "    !git push origin main"
   ]
  }
 ],
 "metadata": {
  "kernelspec": {
   "display_name": "Python 3",
   "language": "python",
   "name": "python3"
  },
  "language_info": {
   "codemirror_mode": {
    "name": "ipython",
    "version": 3
   },
   "file_extension": ".py",
   "mimetype": "text/x-python",
   "name": "python",
   "nbconvert_exporter": "python",
   "pygments_lexer": "ipython3",
   "version": "3.8.5"
  }
 },
 "nbformat": 4,
 "nbformat_minor": 5
}
